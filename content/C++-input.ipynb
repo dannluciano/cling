{
  "metadata": {
    "kernelspec": {
      "name": "xcpp17",
      "display_name": "C++17",
      "language": "cpp"
    },
    "language_info": {
      "codemirror_mode": "text/x-c++src",
      "file_extension": ".cpp",
      "mimetype": "text/x-c++src",
      "name": "C++",
      "version": "17"
    }
  },
  "nbformat_minor": 5,
  "nbformat": 4,
  "cells": [
    {
      "id": "5a418189-54a1-4ca8-b270-de9cc52dde1b",
      "cell_type": "code",
      "source": "%%file main.cpp\n#include <iostream>\n\nint main(){\nstd::cout << \"Hello world\" << std::endl;\nstd::string s;\nstd::getline(std::cin, s);\nstd::cout << s << std::endl;\n}",
      "metadata": {
        "trusted": true
      },
      "outputs": [
        {
          "name": "stdout",
          "output_type": "stream",
          "text": "Writing main.cpp\n"
        }
      ],
      "execution_count": 1
    },
    {
      "id": "efb6bff4-b7e3-4208-bf9c-a613d4511e71",
      "cell_type": "code",
      "source": "%%file input.txt\nDann Luciano de Menezes",
      "metadata": {
        "trusted": true
      },
      "outputs": [
        {
          "name": "stdout",
          "output_type": "stream",
          "text": "Writing input.txt\n"
        }
      ],
      "execution_count": 2
    },
    {
      "id": "efcfbc4f-7d4a-4df6-9041-66d48e5483d0",
      "cell_type": "code",
      "source": "! ./main < input.txt",
      "metadata": {
        "trusted": true
      },
      "outputs": [
        {
          "name": "stderr",
          "output_type": "stream",
          "text": "Unable to execute the shell command\n"
        }
      ],
      "execution_count": 3
    },
    {
      "id": "de8b4f7e-a077-4ae1-9575-cb75973b7f9a",
      "cell_type": "code",
      "source": "#include <iostream>\n\nint main(){\nstd::cout << \"Hello world\" << std::endl;\nstd::string s;\nstd::getline(std::cin, s);\nstd::cout << s << std::endl;\n}\nmain();",
      "metadata": {
        "trusted": true
      },
      "outputs": [
        {
          "name": "stdout",
          "output_type": "stream",
          "text": "Hello world\n"
        },
        {
          "name": "stderr",
          "output_type": "stream",
          "text": "Failed to request stdin via service worker: SyntaxError: JSON.parse: unexpected end of data at line 1 column 1 of the JSON data\n"
        },
        {
          "name": "stdout",
          "output_type": "stream",
          "text": "\n"
        },
        {
          "output_type": "stream",
          "name": "stdin",
          "text": " Dann\n"
        }
      ],
      "execution_count": 5
    },
    {
      "id": "626b10ee-8bec-441c-a818-25c1936156ed",
      "cell_type": "code",
      "source": "",
      "metadata": {
        "trusted": true
      },
      "outputs": [],
      "execution_count": null
    }
  ]
}